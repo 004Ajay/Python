{
 "cells": [
  {
   "cell_type": "code",
   "execution_count": 1,
   "id": "0f4b0d25",
   "metadata": {},
   "outputs": [
    {
     "name": "stdout",
     "output_type": "stream",
     "text": [
      "Enter the sentence: i love USA\n",
      "Enter the word to delete: USA\n",
      "Enter the word to replace: INDIA\n",
      "iloveINDIA\n"
     ]
    }
   ],
   "source": [
    "sen = input(\"Enter the sentence: \")\n",
    "del_word = input(\"Enter the word to delete: \")\n",
    "replace_word = input(\"Enter the word to replace: \")\n",
    "new_sen = ''\n",
    "\n",
    "search = sen.split()\n",
    "\n",
    "for i in search:\n",
    "    if(i == del_word):\n",
    "        new_sen += replace_word\n",
    "    else:\n",
    "        new_sen += i\n",
    "print(new_sen)"
   ]
  },
  {
   "cell_type": "code",
   "execution_count": null,
   "id": "c5ddb631",
   "metadata": {},
   "outputs": [],
   "source": []
  }
 ],
 "metadata": {
  "kernelspec": {
   "display_name": "Python 3 (ipykernel)",
   "language": "python",
   "name": "python3"
  },
  "language_info": {
   "codemirror_mode": {
    "name": "ipython",
    "version": 3
   },
   "file_extension": ".py",
   "mimetype": "text/x-python",
   "name": "python",
   "nbconvert_exporter": "python",
   "pygments_lexer": "ipython3",
   "version": "3.10.3"
  }
 },
 "nbformat": 4,
 "nbformat_minor": 5
}
