{
 "cells": [
  {
   "cell_type": "code",
   "execution_count": null,
   "id": "546e9237",
   "metadata": {},
   "outputs": [],
   "source": [
    "#Write a program to confirm the validity of an email id by verifying its format."
   ]
  },
  {
   "cell_type": "code",
   "execution_count": 1,
   "id": "8218fc46",
   "metadata": {},
   "outputs": [
    {
     "name": "stdout",
     "output_type": "stream",
     "text": [
      "Enter email: ajaytshaju@gmail.com\n",
      "Valid Email\n"
     ]
    }
   ],
   "source": [
    "first_half = 'abcdefghijklmnopqrstuvwxyzABCDEFGHIJLKMNOPQRSTUVWXYZ0123456789'\n",
    "middle_half = 'gmail, hotmail, yahoo, icloud, github, sjcet, outlook'\n",
    "second_half = 'com, in, ac, ac.in, net'\n",
    "\n",
    "email =input(\"Enter email: \") # email: ajaytshaju@gmail.com\n",
    "\n",
    "part = email.split('@') # now email splitted into 'ajaytshaju', 'gmail.com'\n",
    "part_one = part[1].split('.') # now 'gmail.com' becomes 'gmail', 'com'\n",
    "\n",
    "\n",
    "for i in part[0]: #checking first half i.e 'ajaytshaju'\n",
    "    if i not in first_half:\n",
    "        print(\"Invalid Email\")\n",
    "        exit()\n",
    "\n",
    "for j in part_one[0]: #checking first half of 'gmail.com' which is 'gmail'\n",
    "    if j not in middle_half:\n",
    "        print(\"Invalid Email\")\n",
    "        exit()\n",
    "\n",
    "for k in part_one[1]: #checking second half of 'gmail.com' which is 'com'\n",
    "    if k not in second_half:\n",
    "        print(\"Invalid Email\")\n",
    "        exit()\n",
    "\n",
    "print(\"Valid Email\")  #if it passes every levels of checking"
   ]
  },
  {
   "cell_type": "code",
   "execution_count": null,
   "id": "aacfedac",
   "metadata": {},
   "outputs": [],
   "source": []
  }
 ],
 "metadata": {
  "kernelspec": {
   "display_name": "Python 3 (ipykernel)",
   "language": "python",
   "name": "python3"
  },
  "language_info": {
   "codemirror_mode": {
    "name": "ipython",
    "version": 3
   },
   "file_extension": ".py",
   "mimetype": "text/x-python",
   "name": "python",
   "nbconvert_exporter": "python",
   "pygments_lexer": "ipython3",
   "version": "3.10.3"
  }
 },
 "nbformat": 4,
 "nbformat_minor": 5
}
