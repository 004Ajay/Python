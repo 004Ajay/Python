{
 "cells": [
  {
   "cell_type": "code",
   "execution_count": null,
   "id": "fca0e1f6",
   "metadata": {},
   "outputs": [],
   "source": [
    "#Write a program to add two matrices."
   ]
  },
  {
   "cell_type": "code",
   "execution_count": 3,
   "id": "e6595b52",
   "metadata": {},
   "outputs": [
    {
     "name": "stdout",
     "output_type": "stream",
     "text": [
      "1 2\n"
     ]
    },
    {
     "ename": "ValueError",
     "evalue": "invalid literal for int() with base 10: '1 2'",
     "output_type": "error",
     "traceback": [
      "\u001b[1;31m---------------------------------------------------------------------------\u001b[0m",
      "\u001b[1;31mValueError\u001b[0m                                Traceback (most recent call last)",
      "Input \u001b[1;32mIn [3]\u001b[0m, in \u001b[0;36m<cell line: 4>\u001b[1;34m()\u001b[0m\n\u001b[0;32m      6\u001b[0m row \u001b[38;5;241m=\u001b[39m []\n\u001b[0;32m      7\u001b[0m \u001b[38;5;28;01mfor\u001b[39;00m j \u001b[38;5;129;01min\u001b[39;00m \u001b[38;5;28mrange\u001b[39m(\u001b[38;5;241m2\u001b[39m):\n\u001b[0;32m      8\u001b[0m    \u001b[38;5;66;03m# asking the user to input the number\u001b[39;00m\n\u001b[0;32m      9\u001b[0m    \u001b[38;5;66;03m# converts the input to int as the default one is string\u001b[39;00m\n\u001b[1;32m---> 10\u001b[0m    element \u001b[38;5;241m=\u001b[39m \u001b[38;5;28;43mint\u001b[39;49m\u001b[43m(\u001b[49m\u001b[38;5;28;43minput\u001b[39;49m\u001b[43m(\u001b[49m\u001b[43m)\u001b[49m\u001b[43m)\u001b[49m\n\u001b[0;32m     11\u001b[0m    \u001b[38;5;66;03m# appending the element to the 'row'\u001b[39;00m\n\u001b[0;32m     12\u001b[0m    row\u001b[38;5;241m.\u001b[39mappend(element)\n",
      "\u001b[1;31mValueError\u001b[0m: invalid literal for int() with base 10: '1 2'"
     ]
    }
   ],
   "source": [
    "# initializing an empty matrix\n",
    "matrix = []\n",
    "# taking 2x2 matrix from the user\n",
    "for i in range(2):\n",
    "   # empty row\n",
    "   row = []\n",
    "   for j in range(2):\n",
    "      # asking the user to input the number\n",
    "      # converts the input to int as the default one is string\n",
    "      element = int(input())\n",
    "      # appending the element to the 'row'\n",
    "      row.append(element)\n",
    "   # appending the 'row' to the 'matrix'\n",
    "   matrix.append(row)\n",
    "# printing the matrix\n",
    "print(matrix)"
   ]
  },
  {
   "cell_type": "code",
   "execution_count": null,
   "id": "466a802c",
   "metadata": {},
   "outputs": [],
   "source": [
    "def Mat_Input()\n",
    "\n"
   ]
  },
  {
   "cell_type": "code",
   "execution_count": 10,
   "id": "5e8ada8f",
   "metadata": {},
   "outputs": [
    {
     "name": "stdout",
     "output_type": "stream",
     "text": [
      "Enter two values: 1 2\n",
      "1 2\n",
      "2\n"
     ]
    }
   ],
   "source": [
    "row, column = input(\"Enter two values: \").split()\n",
    "print(row, column)\n",
    "\n",
    "matrix = []"
   ]
  },
  {
   "cell_type": "code",
   "execution_count": null,
   "id": "1eed0011",
   "metadata": {},
   "outputs": [],
   "source": []
  },
  {
   "cell_type": "code",
   "execution_count": null,
   "id": "417f2832",
   "metadata": {},
   "outputs": [],
   "source": []
  }
 ],
 "metadata": {
  "kernelspec": {
   "display_name": "Python 3 (ipykernel)",
   "language": "python",
   "name": "python3"
  },
  "language_info": {
   "codemirror_mode": {
    "name": "ipython",
    "version": 3
   },
   "file_extension": ".py",
   "mimetype": "text/x-python",
   "name": "python",
   "nbconvert_exporter": "python",
   "pygments_lexer": "ipython3",
   "version": "3.10.3"
  }
 },
 "nbformat": 4,
 "nbformat_minor": 5
}
