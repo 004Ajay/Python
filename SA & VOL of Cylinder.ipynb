{
 "cells": [
  {
   "cell_type": "code",
   "execution_count": 1,
   "id": "e5a6da21",
   "metadata": {},
   "outputs": [
    {
     "name": "stdout",
     "output_type": "stream",
     "text": [
      "surface area =  175.84 units\n",
      "volume =  150.72 units\n"
     ]
    }
   ],
   "source": [
    "def formula(radius, height):\n",
    "    sa = (2*3.14*radius) * (radius+height)\n",
    "    vol = (3.14*radius*radius*height)\n",
    "    print(\"surface area = \",sa,\"units\")\n",
    "    print(\"volume = \",vol,\"units\")\n",
    "formula(4, 3)    "
   ]
  },
  {
   "cell_type": "code",
   "execution_count": null,
   "id": "520b39ac",
   "metadata": {},
   "outputs": [],
   "source": []
  }
 ],
 "metadata": {
  "kernelspec": {
   "display_name": "Python 3 (ipykernel)",
   "language": "python",
   "name": "python3"
  },
  "language_info": {
   "codemirror_mode": {
    "name": "ipython",
    "version": 3
   },
   "file_extension": ".py",
   "mimetype": "text/x-python",
   "name": "python",
   "nbconvert_exporter": "python",
   "pygments_lexer": "ipython3",
   "version": "3.10.3"
  }
 },
 "nbformat": 4,
 "nbformat_minor": 5
}
