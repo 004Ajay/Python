{
 "cells": [
  {
   "cell_type": "code",
   "execution_count": null,
   "id": "16cf694c",
   "metadata": {},
   "outputs": [],
   "source": [
    "#Write a program to read a tuple of numbers and print even tuple and odd tuple."
   ]
  },
  {
   "cell_type": "code",
   "execution_count": 1,
   "id": "fc368187",
   "metadata": {},
   "outputs": [
    {
     "name": "stdout",
     "output_type": "stream",
     "text": [
      "Enter numbers: 1 2 3 4 5 6\n",
      "Input:  (1, 2, 3, 4, 5, 6)\n",
      "Even numbers:  (2, 4, 6)\n",
      "Odd numbers:  (1, 3, 5)\n"
     ]
    }
   ],
   "source": [
    "num = tuple(map(int,input(\"Enter numbers: \").split()))\n",
    "even = []\n",
    "odd = []\n",
    "print(\"Input: \", num)\n",
    "for i in range(1, len(num)+1):\n",
    "    if (i % 2 == 0):\n",
    "        even.append(i)\n",
    "    else:\n",
    "        odd.append(i)\n",
    "\n",
    "print(\"Even numbers: \", tuple(even))\n",
    "print(\"Odd numbers: \", tuple(odd))"
   ]
  },
  {
   "cell_type": "code",
   "execution_count": null,
   "id": "048319d2",
   "metadata": {},
   "outputs": [],
   "source": []
  }
 ],
 "metadata": {
  "kernelspec": {
   "display_name": "Python 3 (ipykernel)",
   "language": "python",
   "name": "python3"
  },
  "language_info": {
   "codemirror_mode": {
    "name": "ipython",
    "version": 3
   },
   "file_extension": ".py",
   "mimetype": "text/x-python",
   "name": "python",
   "nbconvert_exporter": "python",
   "pygments_lexer": "ipython3",
   "version": "3.10.3"
  }
 },
 "nbformat": 4,
 "nbformat_minor": 5
}
