{
 "cells": [
  {
   "cell_type": "code",
   "execution_count": 5,
   "id": "d6dacea4",
   "metadata": {},
   "outputs": [
    {
     "name": "stdout",
     "output_type": "stream",
     "text": [
      "Enter first num: 100\n",
      "Enter second num: 200\n",
      "Enter third num: 300\n",
      "300 is the largest\n"
     ]
    }
   ],
   "source": [
    "num1 = int(input(\"Enter first num: \")) \n",
    "num2 = int(input(\"Enter second num: \"))\n",
    "num3 = int(input (\"Enter third num: \"))\n",
    "\n",
    "if (num1 > num2) and (num1 > num3):\n",
    "    print (numl, \"is the largest\")\n",
    "elif (num2 > num1) and (num2 > num3):\n",
    "    print (num2,\"is the largest\")\n",
    "else:\n",
    "    print (num3, \"is the largest\")"
   ]
  }
 ],
 "metadata": {
  "kernelspec": {
   "display_name": "Python 3 (ipykernel)",
   "language": "python",
   "name": "python3"
  },
  "language_info": {
   "codemirror_mode": {
    "name": "ipython",
    "version": 3
   },
   "file_extension": ".py",
   "mimetype": "text/x-python",
   "name": "python",
   "nbconvert_exporter": "python",
   "pygments_lexer": "ipython3",
   "version": "3.10.3"
  }
 },
 "nbformat": 4,
 "nbformat_minor": 5
}
