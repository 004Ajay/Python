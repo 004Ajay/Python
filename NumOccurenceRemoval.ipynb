{
 "cells": [
  {
   "cell_type": "code",
   "execution_count": null,
   "id": "34b95461",
   "metadata": {},
   "outputs": [],
   "source": [
    "#Write a program to remove every occurrence of a number from a list."
   ]
  },
  {
   "cell_type": "code",
   "execution_count": 2,
   "id": "2b38e62b",
   "metadata": {},
   "outputs": [
    {
     "name": "stdout",
     "output_type": "stream",
     "text": [
      "Enter list: 1 2 1\n",
      "Enter num to remove: 2\n",
      "1\n",
      "1\n"
     ]
    }
   ],
   "source": [
    "list = map(int, input(\"Enter list: \").split())\n",
    "num = int(input(\"Enter num to remove: \"))\n",
    "\n",
    "for i in list:\n",
    "    if(i != num): print(i)"
   ]
  },
  {
   "cell_type": "code",
   "execution_count": 3,
   "id": "1c2a3421",
   "metadata": {},
   "outputs": [
    {
     "name": "stdout",
     "output_type": "stream",
     "text": [
      "Enter list: 1 2 1\n",
      "{'1', ' ', '2'}\n"
     ]
    }
   ],
   "source": [
    "list = input(\"Enter list: \")\n",
    "new_list = set(list)\n",
    "print(new_list) "
   ]
  },
  {
   "cell_type": "code",
   "execution_count": null,
   "id": "b2108b90",
   "metadata": {},
   "outputs": [],
   "source": []
  }
 ],
 "metadata": {
  "kernelspec": {
   "display_name": "Python 3 (ipykernel)",
   "language": "python",
   "name": "python3"
  },
  "language_info": {
   "codemirror_mode": {
    "name": "ipython",
    "version": 3
   },
   "file_extension": ".py",
   "mimetype": "text/x-python",
   "name": "python",
   "nbconvert_exporter": "python",
   "pygments_lexer": "ipython3",
   "version": "3.10.3"
  }
 },
 "nbformat": 4,
 "nbformat_minor": 5
}
